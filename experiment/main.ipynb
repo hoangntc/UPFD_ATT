{
 "cells": [
  {
   "cell_type": "code",
   "execution_count": 3,
   "id": "8ea9b30e",
   "metadata": {},
   "outputs": [
    {
     "name": "stdout",
     "output_type": "stream",
     "text": [
      "The autoreload extension is already loaded. To reload it, use:\n",
      "  %reload_ext autoreload\n",
      "PROJ_PATH=/home/hminle/github/UPFD_ATT\n"
     ]
    }
   ],
   "source": [
    "%load_ext autoreload\n",
    "%autoreload 2\n",
    "\n",
    "import os, sys, re, datetime, random, gzip, json, copy\n",
    "from tqdm.autonotebook import tqdm\n",
    "import pandas as pd\n",
    "import numpy as np\n",
    "import glob\n",
    "from pathlib import Path\n",
    "from itertools import accumulate\n",
    "import argparse\n",
    "from time import time\n",
    "from math import ceil\n",
    "\n",
    "import torch\n",
    "import torch.nn as nn\n",
    "import torch.optim as optim\n",
    "import torch.nn.functional as F\n",
    "\n",
    "import pytorch_lightning as pl\n",
    "from pytorch_lightning.trainer.trainer import Trainer\n",
    "from pytorch_lightning.callbacks import ModelCheckpoint, EarlyStopping\n",
    "from pytorch_lightning.utilities.seed import seed_everything\n",
    "\n",
    "from torch_geometric.loader import DataLoader\n",
    "from torch_geometric.datasets import UPFD\n",
    "from torch_geometric.nn import Sequential, HeteroConv, GINConv, GCNConv, SAGEConv, GATConv\n",
    "\n",
    "PROJ_PATH = Path(os.path.join(re.sub(\"/UPFD_ATT.*$\", '', os.getcwd()), 'UPFD_ATT'))\n",
    "print(f'PROJ_PATH={PROJ_PATH}')\n",
    "sys.path.insert(1, str(PROJ_PATH))\n",
    "sys.path.insert(1, str(PROJ_PATH/'src'))\n",
    "import utils\n",
    "from utils import *\n",
    "from dataset import DataModule\n",
    "from trainer import build_trainer\n",
    "from model import GNN, GNN_ATT"
   ]
  },
  {
   "cell_type": "markdown",
   "id": "da797201",
   "metadata": {},
   "source": [
    "# Prepare data"
   ]
  },
  {
   "cell_type": "code",
   "execution_count": 4,
   "id": "9a03a690",
   "metadata": {},
   "outputs": [
    {
     "name": "stderr",
     "output_type": "stream",
     "text": [
      "Downloading https://docs.google.com/uc?export=download&id=1VskhAQ92PrT4sWEKQ2v2-AJhEcpp4A81&confirm=t\n",
      "Extracting data/gossipcop/raw/uc\n",
      "Processing...\n",
      "Done!\n"
     ]
    }
   ],
   "source": [
    "train_data = UPFD(root=\"./data\", name=\"gossipcop\", feature=\"content\", split=\"train\")\n",
    "val_data = UPFD(root=\"./data\", name=\"gossipcop\", feature=\"content\", split=\"val\")\n",
    "test_data = UPFD(root=\"./data\", name=\"gossipcop\", feature=\"content\", split=\"test\")"
   ]
  },
  {
   "cell_type": "code",
   "execution_count": 5,
   "id": "9b104a2f",
   "metadata": {},
   "outputs": [
    {
     "name": "stdout",
     "output_type": "stream",
     "text": [
      "1092 546 3826\n"
     ]
    }
   ],
   "source": [
    "print(len(train_data), len(val_data), len(test_data))"
   ]
  },
  {
   "cell_type": "code",
   "execution_count": 7,
   "id": "3fd8f831",
   "metadata": {},
   "outputs": [
    {
     "name": "stderr",
     "output_type": "stream",
     "text": [
      "Downloading https://docs.google.com/uc?export=download&id=1KOmSrlGcC50PjkvRVbyb_WoWHVql06J-&confirm=t\n",
      "Extracting data/politifact/raw/uc\n",
      "Processing...\n",
      "Done!\n"
     ]
    }
   ],
   "source": [
    "train_data = UPFD(root=\"./data\", name=\"politifact\", feature=\"content\", split=\"train\")\n",
    "val_data = UPFD(root=\"./data\", name=\"politifact\", feature=\"content\", split=\"val\")\n",
    "test_data = UPFD(root=\"./data\", name=\"politifact\", feature=\"content\", split=\"test\")"
   ]
  },
  {
   "cell_type": "code",
   "execution_count": 8,
   "id": "0e199808",
   "metadata": {},
   "outputs": [
    {
     "name": "stdout",
     "output_type": "stream",
     "text": [
      "62 31 221\n"
     ]
    }
   ],
   "source": [
    "print(len(train_data), len(val_data), len(test_data))"
   ]
  },
  {
   "cell_type": "markdown",
   "id": "8c5d0a3d",
   "metadata": {},
   "source": [
    "# Train/Test/Inference"
   ]
  },
  {
   "cell_type": "code",
   "execution_count": 2,
   "id": "1bc6f384",
   "metadata": {
    "hidden": true
   },
   "outputs": [
    {
     "name": "stderr",
     "output_type": "stream",
     "text": [
      "Global seed set to 2022\n"
     ]
    },
    {
     "name": "stdout",
     "output_type": "stream",
     "text": [
      "Reading config file: /home/hminle/github/UPFD_ATT/src/config/gnn_gos.json\n"
     ]
    },
    {
     "data": {
      "text/plain": [
       "2022"
      ]
     },
     "execution_count": 2,
     "metadata": {},
     "output_type": "execute_result"
    }
   ],
   "source": [
    "parser = argparse.ArgumentParser(description='Training.')\n",
    "parser.add_argument('-config_file', help='config file path', default=str(PROJ_PATH / 'src/config/gnn_gos.json'), type=str)\n",
    "parser.add_argument(\"-f\", \"--fff\", help=\"a dummy argument to fool ipython\", default=\"1\")\n",
    "args = parser.parse_args()\n",
    "print('Reading config file:', args.config_file)\n",
    "args.config = utils.read_json(args.config_file)\n",
    "seed_everything(args.config['trainer_params']['seed'], workers=True)"
   ]
  },
  {
   "cell_type": "code",
   "execution_count": 3,
   "id": "51139b77",
   "metadata": {},
   "outputs": [
    {
     "data": {
      "text/plain": [
       "OrderedDict([('data_params',\n",
       "              OrderedDict([('root', '../data'),\n",
       "                           ('name', 'gossipcop'),\n",
       "                           ('feature', 'content'),\n",
       "                           ('batch_size', 128)])),\n",
       "             ('model_params',\n",
       "              OrderedDict([('model_name', 'GNN'),\n",
       "                           ('in_channels', 310),\n",
       "                           ('hidden_channels', 128),\n",
       "                           ('out_channels', 1),\n",
       "                           ('lr', 0.001)])),\n",
       "             ('trainer_params',\n",
       "              OrderedDict([('seed', 2022),\n",
       "                           ('name', 'gnn_gos'),\n",
       "                           ('checkpoint_dir', '../model'),\n",
       "                           ('top_k', 5),\n",
       "                           ('max_epochs', 200),\n",
       "                           ('metric', 'val_acc'),\n",
       "                           ('patience', 20),\n",
       "                           ('mode', 'max')]))])"
      ]
     },
     "execution_count": 3,
     "metadata": {},
     "output_type": "execute_result"
    }
   ],
   "source": [
    "args.config"
   ]
  },
  {
   "cell_type": "code",
   "execution_count": 4,
   "id": "dce9b996",
   "metadata": {
    "collapsed": true
   },
   "outputs": [
    {
     "name": "stderr",
     "output_type": "stream",
     "text": [
      "/home/hminle/miniconda3/envs/upfd/lib/python3.7/site-packages/pytorch_lightning/trainer/connectors/callback_connector.py:192: LightningDeprecationWarning: Setting `Trainer(weights_summary=full)` is deprecated in v1.5 and will be removed in v1.7. Please pass `pytorch_lightning.callbacks.model_summary.ModelSummary` with `max_depth` directly to the Trainer's `callbacks` argument instead.\n",
      "  f\"Setting `Trainer(weights_summary={weights_summary})` is deprecated in v1.5 and will be removed\"\n",
      "GPU available: True, used: True\n",
      "TPU available: False, using: 0 TPU cores\n",
      "IPU available: False, using: 0 IPUs\n",
      "HPU available: False, using: 0 HPUs\n",
      "/home/hminle/miniconda3/envs/upfd/lib/python3.7/site-packages/pytorch_lightning/callbacks/model_checkpoint.py:608: UserWarning: Checkpoint directory /home/hminle/github/UPFD_ATT/model exists and is not empty.\n",
      "  rank_zero_warn(f\"Checkpoint directory {dirpath} exists and is not empty.\")\n",
      "LOCAL_RANK: 0 - CUDA_VISIBLE_DEVICES: [0,1,2,3]\n",
      "\n",
      "  | Name          | Type    | Params\n",
      "------------------------------------------\n",
      "0 | conv1         | GATConv | 40.1 K\n",
      "1 | conv1.lin_src | Linear  | 39.7 K\n",
      "2 | conv2         | GATConv | 16.8 K\n",
      "3 | conv2.lin_src | Linear  | 16.4 K\n",
      "4 | conv3         | GATConv | 16.8 K\n",
      "5 | conv3.lin_src | Linear  | 16.4 K\n",
      "6 | lin_news      | Linear  | 39.8 K\n",
      "7 | lin0          | Linear  | 16.5 K\n",
      "8 | lin1          | Linear  | 257   \n",
      "9 | loss          | BCELoss | 0     \n",
      "------------------------------------------\n",
      "130 K     Trainable params\n",
      "0         Non-trainable params\n",
      "130 K     Total params\n",
      "0.521     Total estimated model params size (MB)\n"
     ]
    },
    {
     "data": {
      "application/vnd.jupyter.widget-view+json": {
       "model_id": "",
       "version_major": 2,
       "version_minor": 0
      },
      "text/plain": [
       "Sanity Checking: 0it [00:00, ?it/s]"
      ]
     },
     "metadata": {},
     "output_type": "display_data"
    },
    {
     "name": "stderr",
     "output_type": "stream",
     "text": [
      "/home/hminle/miniconda3/envs/upfd/lib/python3.7/site-packages/pytorch_lightning/trainer/connectors/data_connector.py:245: PossibleUserWarning: The dataloader, val_dataloader 0, does not have many workers which may be a bottleneck. Consider increasing the value of the `num_workers` argument` (try 16 which is the number of cpus on this machine) in the `DataLoader` init to improve performance.\n",
      "  category=PossibleUserWarning,\n",
      "/home/hminle/miniconda3/envs/upfd/lib/python3.7/site-packages/pytorch_lightning/utilities/data.py:73: UserWarning: Trying to infer the `batch_size` from an ambiguous collection. The batch size we found is 7196. To avoid any miscalculations, use `self.log(..., batch_size=batch_size)`.\n",
      "  \"Trying to infer the `batch_size` from an ambiguous collection. The batch size we\"\n",
      "/home/hminle/miniconda3/envs/upfd/lib/python3.7/site-packages/pytorch_lightning/utilities/data.py:73: UserWarning: Trying to infer the `batch_size` from an ambiguous collection. The batch size we found is 7846. To avoid any miscalculations, use `self.log(..., batch_size=batch_size)`.\n",
      "  \"Trying to infer the `batch_size` from an ambiguous collection. The batch size we\"\n",
      "/home/hminle/miniconda3/envs/upfd/lib/python3.7/site-packages/pytorch_lightning/callbacks/progress/base.py:223: UserWarning: The progress bar already tracks a metric with the name(s) 'loss' and `self.log('loss', ..., prog_bar=True)` will overwrite this value.  If this is undesired, change the name or override `get_metrics()` in the progress bar callback.\n",
      "  f\"The progress bar already tracks a metric with the name(s) '{', '.join(duplicates)}' and\"\n",
      "/home/hminle/miniconda3/envs/upfd/lib/python3.7/site-packages/pytorch_lightning/trainer/connectors/data_connector.py:245: PossibleUserWarning: The dataloader, train_dataloader, does not have many workers which may be a bottleneck. Consider increasing the value of the `num_workers` argument` (try 16 which is the number of cpus on this machine) in the `DataLoader` init to improve performance.\n",
      "  category=PossibleUserWarning,\n",
      "/home/hminle/miniconda3/envs/upfd/lib/python3.7/site-packages/pytorch_lightning/trainer/trainer.py:1942: PossibleUserWarning: The number of training samples (8) is smaller than the logging interval Trainer(log_every_n_steps=20). Set a lower value for log_every_n_steps if you want to see logs for the training epoch.\n",
      "  category=PossibleUserWarning,\n"
     ]
    },
    {
     "data": {
      "application/vnd.jupyter.widget-view+json": {
       "model_id": "c3811fdd87454482bf78574cd3e544ee",
       "version_major": 2,
       "version_minor": 0
      },
      "text/plain": [
       "Training: 0it [00:00, ?it/s]"
      ]
     },
     "metadata": {},
     "output_type": "display_data"
    },
    {
     "data": {
      "application/vnd.jupyter.widget-view+json": {
       "model_id": "",
       "version_major": 2,
       "version_minor": 0
      },
      "text/plain": [
       "Validation: 0it [00:00, ?it/s]"
      ]
     },
     "metadata": {},
     "output_type": "display_data"
    },
    {
     "name": "stderr",
     "output_type": "stream",
     "text": [
      "/home/hminle/miniconda3/envs/upfd/lib/python3.7/site-packages/pytorch_lightning/utilities/data.py:73: UserWarning: Trying to infer the `batch_size` from an ambiguous collection. The batch size we found is 7404. To avoid any miscalculations, use `self.log(..., batch_size=batch_size)`.\n",
      "  \"Trying to infer the `batch_size` from an ambiguous collection. The batch size we\"\n",
      "/home/hminle/miniconda3/envs/upfd/lib/python3.7/site-packages/pytorch_lightning/utilities/data.py:73: UserWarning: Trying to infer the `batch_size` from an ambiguous collection. The batch size we found is 6311. To avoid any miscalculations, use `self.log(..., batch_size=batch_size)`.\n",
      "  \"Trying to infer the `batch_size` from an ambiguous collection. The batch size we\"\n",
      "/home/hminle/miniconda3/envs/upfd/lib/python3.7/site-packages/pytorch_lightning/utilities/data.py:73: UserWarning: Trying to infer the `batch_size` from an ambiguous collection. The batch size we found is 2034. To avoid any miscalculations, use `self.log(..., batch_size=batch_size)`.\n",
      "  \"Trying to infer the `batch_size` from an ambiguous collection. The batch size we\"\n",
      "/home/hminle/miniconda3/envs/upfd/lib/python3.7/site-packages/pytorch_lightning/callbacks/progress/base.py:223: UserWarning: The progress bar already tracks a metric with the name(s) 'loss' and `self.log('loss', ..., prog_bar=True)` will overwrite this value.  If this is undesired, change the name or override `get_metrics()` in the progress bar callback.\n",
      "  f\"The progress bar already tracks a metric with the name(s) '{', '.join(duplicates)}' and\"\n",
      "Epoch 0, global step 8: 'val_acc' reached 0.50910 (best 0.50910), saving model to '/home/hminle/github/UPFD_ATT/model/model=gnn_gos-epoch=0-val_loss=0.6933-val_acc=0.5091-val_f1=0.0000.ckpt' as top 5\n"
     ]
    },
    {
     "data": {
      "application/vnd.jupyter.widget-view+json": {
       "model_id": "",
       "version_major": 2,
       "version_minor": 0
      },
      "text/plain": [
       "Validation: 0it [00:00, ?it/s]"
      ]
     },
     "metadata": {},
     "output_type": "display_data"
    },
    {
     "name": "stderr",
     "output_type": "stream",
     "text": [
      "/home/hminle/miniconda3/envs/upfd/lib/python3.7/site-packages/pytorch_lightning/callbacks/progress/base.py:223: UserWarning: The progress bar already tracks a metric with the name(s) 'loss' and `self.log('loss', ..., prog_bar=True)` will overwrite this value.  If this is undesired, change the name or override `get_metrics()` in the progress bar callback.\n",
      "  f\"The progress bar already tracks a metric with the name(s) '{', '.join(duplicates)}' and\"\n",
      "Epoch 1, global step 16: 'val_acc' reached 0.52748 (best 0.52748), saving model to '/home/hminle/github/UPFD_ATT/model/model=gnn_gos-epoch=1-val_loss=0.6806-val_acc=0.5275-val_f1=0.0749.ckpt' as top 5\n"
     ]
    },
    {
     "data": {
      "application/vnd.jupyter.widget-view+json": {
       "model_id": "",
       "version_major": 2,
       "version_minor": 0
      },
      "text/plain": [
       "Validation: 0it [00:00, ?it/s]"
      ]
     },
     "metadata": {},
     "output_type": "display_data"
    },
    {
     "name": "stderr",
     "output_type": "stream",
     "text": [
      "/home/hminle/miniconda3/envs/upfd/lib/python3.7/site-packages/pytorch_lightning/callbacks/progress/base.py:223: UserWarning: The progress bar already tracks a metric with the name(s) 'loss' and `self.log('loss', ..., prog_bar=True)` will overwrite this value.  If this is undesired, change the name or override `get_metrics()` in the progress bar callback.\n",
      "  f\"The progress bar already tracks a metric with the name(s) '{', '.join(duplicates)}' and\"\n",
      "Epoch 2, global step 24: 'val_acc' reached 0.52610 (best 0.52748), saving model to '/home/hminle/github/UPFD_ATT/model/model=gnn_gos-epoch=2-val_loss=0.6720-val_acc=0.5261-val_f1=0.6682.ckpt' as top 5\n"
     ]
    },
    {
     "data": {
      "application/vnd.jupyter.widget-view+json": {
       "model_id": "",
       "version_major": 2,
       "version_minor": 0
      },
      "text/plain": [
       "Validation: 0it [00:00, ?it/s]"
      ]
     },
     "metadata": {},
     "output_type": "display_data"
    },
    {
     "name": "stderr",
     "output_type": "stream",
     "text": [
      "/home/hminle/miniconda3/envs/upfd/lib/python3.7/site-packages/pytorch_lightning/callbacks/progress/base.py:223: UserWarning: The progress bar already tracks a metric with the name(s) 'loss' and `self.log('loss', ..., prog_bar=True)` will overwrite this value.  If this is undesired, change the name or override `get_metrics()` in the progress bar callback.\n",
      "  f\"The progress bar already tracks a metric with the name(s) '{', '.join(duplicates)}' and\"\n",
      "Epoch 3, global step 32: 'val_acc' reached 0.93824 (best 0.93824), saving model to '/home/hminle/github/UPFD_ATT/model/model=gnn_gos-epoch=3-val_loss=0.6450-val_acc=0.9382-val_f1=0.9338.ckpt' as top 5\n"
     ]
    },
    {
     "data": {
      "application/vnd.jupyter.widget-view+json": {
       "model_id": "",
       "version_major": 2,
       "version_minor": 0
      },
      "text/plain": [
       "Validation: 0it [00:00, ?it/s]"
      ]
     },
     "metadata": {},
     "output_type": "display_data"
    },
    {
     "name": "stderr",
     "output_type": "stream",
     "text": [
      "/home/hminle/miniconda3/envs/upfd/lib/python3.7/site-packages/pytorch_lightning/callbacks/progress/base.py:223: UserWarning: The progress bar already tracks a metric with the name(s) 'loss' and `self.log('loss', ..., prog_bar=True)` will overwrite this value.  If this is undesired, change the name or override `get_metrics()` in the progress bar callback.\n",
      "  f\"The progress bar already tracks a metric with the name(s) '{', '.join(duplicates)}' and\"\n",
      "Epoch 4, global step 40: 'val_acc' reached 0.49090 (best 0.93824), saving model to '/home/hminle/github/UPFD_ATT/model/model=gnn_gos-epoch=4-val_loss=0.6175-val_acc=0.4909-val_f1=0.6534.ckpt' as top 5\n"
     ]
    },
    {
     "data": {
      "application/vnd.jupyter.widget-view+json": {
       "model_id": "",
       "version_major": 2,
       "version_minor": 0
      },
      "text/plain": [
       "Validation: 0it [00:00, ?it/s]"
      ]
     },
     "metadata": {},
     "output_type": "display_data"
    },
    {
     "name": "stderr",
     "output_type": "stream",
     "text": [
      "/home/hminle/miniconda3/envs/upfd/lib/python3.7/site-packages/pytorch_lightning/callbacks/progress/base.py:223: UserWarning: The progress bar already tracks a metric with the name(s) 'loss' and `self.log('loss', ..., prog_bar=True)` will overwrite this value.  If this is undesired, change the name or override `get_metrics()` in the progress bar callback.\n",
      "  f\"The progress bar already tracks a metric with the name(s) '{', '.join(duplicates)}' and\"\n",
      "Epoch 5, global step 48: 'val_acc' reached 0.87730 (best 0.93824), saving model to '/home/hminle/github/UPFD_ATT/model/model=gnn_gos-epoch=5-val_loss=0.4595-val_acc=0.8773-val_f1=0.8608.ckpt' as top 5\n"
     ]
    },
    {
     "data": {
      "application/vnd.jupyter.widget-view+json": {
       "model_id": "",
       "version_major": 2,
       "version_minor": 0
      },
      "text/plain": [
       "Validation: 0it [00:00, ?it/s]"
      ]
     },
     "metadata": {},
     "output_type": "display_data"
    },
    {
     "name": "stderr",
     "output_type": "stream",
     "text": [
      "/home/hminle/miniconda3/envs/upfd/lib/python3.7/site-packages/pytorch_lightning/callbacks/progress/base.py:223: UserWarning: The progress bar already tracks a metric with the name(s) 'loss' and `self.log('loss', ..., prog_bar=True)` will overwrite this value.  If this is undesired, change the name or override `get_metrics()` in the progress bar callback.\n",
      "  f\"The progress bar already tracks a metric with the name(s) '{', '.join(duplicates)}' and\"\n",
      "Epoch 6, global step 56: 'val_acc' reached 0.96562 (best 0.96562), saving model to '/home/hminle/github/UPFD_ATT/model/model=gnn_gos-epoch=6-val_loss=0.2750-val_acc=0.9656-val_f1=0.9662.ckpt' as top 5\n"
     ]
    },
    {
     "data": {
      "application/vnd.jupyter.widget-view+json": {
       "model_id": "",
       "version_major": 2,
       "version_minor": 0
      },
      "text/plain": [
       "Validation: 0it [00:00, ?it/s]"
      ]
     },
     "metadata": {},
     "output_type": "display_data"
    },
    {
     "name": "stderr",
     "output_type": "stream",
     "text": [
      "/home/hminle/miniconda3/envs/upfd/lib/python3.7/site-packages/pytorch_lightning/callbacks/progress/base.py:223: UserWarning: The progress bar already tracks a metric with the name(s) 'loss' and `self.log('loss', ..., prog_bar=True)` will overwrite this value.  If this is undesired, change the name or override `get_metrics()` in the progress bar callback.\n",
      "  f\"The progress bar already tracks a metric with the name(s) '{', '.join(duplicates)}' and\"\n",
      "Epoch 7, global step 64: 'val_acc' reached 0.95469 (best 0.96562), saving model to '/home/hminle/github/UPFD_ATT/model/model=gnn_gos-epoch=7-val_loss=0.1560-val_acc=0.9547-val_f1=0.9551.ckpt' as top 5\n"
     ]
    },
    {
     "data": {
      "application/vnd.jupyter.widget-view+json": {
       "model_id": "",
       "version_major": 2,
       "version_minor": 0
      },
      "text/plain": [
       "Validation: 0it [00:00, ?it/s]"
      ]
     },
     "metadata": {},
     "output_type": "display_data"
    },
    {
     "name": "stderr",
     "output_type": "stream",
     "text": [
      "/home/hminle/miniconda3/envs/upfd/lib/python3.7/site-packages/pytorch_lightning/callbacks/progress/base.py:223: UserWarning: The progress bar already tracks a metric with the name(s) 'loss' and `self.log('loss', ..., prog_bar=True)` will overwrite this value.  If this is undesired, change the name or override `get_metrics()` in the progress bar callback.\n",
      "  f\"The progress bar already tracks a metric with the name(s) '{', '.join(duplicates)}' and\"\n",
      "Epoch 8, global step 72: 'val_acc' reached 0.95625 (best 0.96562), saving model to '/home/hminle/github/UPFD_ATT/model/model=gnn_gos-epoch=8-val_loss=0.1374-val_acc=0.9563-val_f1=0.9569.ckpt' as top 5\n"
     ]
    },
    {
     "data": {
      "application/vnd.jupyter.widget-view+json": {
       "model_id": "",
       "version_major": 2,
       "version_minor": 0
      },
      "text/plain": [
       "Validation: 0it [00:00, ?it/s]"
      ]
     },
     "metadata": {},
     "output_type": "display_data"
    },
    {
     "name": "stderr",
     "output_type": "stream",
     "text": [
      "/home/hminle/miniconda3/envs/upfd/lib/python3.7/site-packages/pytorch_lightning/callbacks/progress/base.py:223: UserWarning: The progress bar already tracks a metric with the name(s) 'loss' and `self.log('loss', ..., prog_bar=True)` will overwrite this value.  If this is undesired, change the name or override `get_metrics()` in the progress bar callback.\n",
      "  f\"The progress bar already tracks a metric with the name(s) '{', '.join(duplicates)}' and\"\n",
      "Epoch 9, global step 80: 'val_acc' reached 0.96406 (best 0.96562), saving model to '/home/hminle/github/UPFD_ATT/model/model=gnn_gos-epoch=9-val_loss=0.1276-val_acc=0.9641-val_f1=0.9651.ckpt' as top 5\n"
     ]
    },
    {
     "data": {
      "application/vnd.jupyter.widget-view+json": {
       "model_id": "",
       "version_major": 2,
       "version_minor": 0
      },
      "text/plain": [
       "Validation: 0it [00:00, ?it/s]"
      ]
     },
     "metadata": {},
     "output_type": "display_data"
    },
    {
     "name": "stderr",
     "output_type": "stream",
     "text": [
      "/home/hminle/miniconda3/envs/upfd/lib/python3.7/site-packages/pytorch_lightning/callbacks/progress/base.py:223: UserWarning: The progress bar already tracks a metric with the name(s) 'loss' and `self.log('loss', ..., prog_bar=True)` will overwrite this value.  If this is undesired, change the name or override `get_metrics()` in the progress bar callback.\n",
      "  f\"The progress bar already tracks a metric with the name(s) '{', '.join(duplicates)}' and\"\n",
      "Epoch 10, global step 88: 'val_acc' reached 0.97500 (best 0.97500), saving model to '/home/hminle/github/UPFD_ATT/model/model=gnn_gos-epoch=10-val_loss=0.1142-val_acc=0.9750-val_f1=0.9760.ckpt' as top 5\n"
     ]
    },
    {
     "data": {
      "application/vnd.jupyter.widget-view+json": {
       "model_id": "",
       "version_major": 2,
       "version_minor": 0
      },
      "text/plain": [
       "Validation: 0it [00:00, ?it/s]"
      ]
     },
     "metadata": {},
     "output_type": "display_data"
    },
    {
     "name": "stderr",
     "output_type": "stream",
     "text": [
      "/home/hminle/miniconda3/envs/upfd/lib/python3.7/site-packages/pytorch_lightning/callbacks/progress/base.py:223: UserWarning: The progress bar already tracks a metric with the name(s) 'loss' and `self.log('loss', ..., prog_bar=True)` will overwrite this value.  If this is undesired, change the name or override `get_metrics()` in the progress bar callback.\n",
      "  f\"The progress bar already tracks a metric with the name(s) '{', '.join(duplicates)}' and\"\n",
      "Epoch 11, global step 96: 'val_acc' was not in top 5\n"
     ]
    },
    {
     "data": {
      "application/vnd.jupyter.widget-view+json": {
       "model_id": "",
       "version_major": 2,
       "version_minor": 0
      },
      "text/plain": [
       "Validation: 0it [00:00, ?it/s]"
      ]
     },
     "metadata": {},
     "output_type": "display_data"
    },
    {
     "name": "stderr",
     "output_type": "stream",
     "text": [
      "/home/hminle/miniconda3/envs/upfd/lib/python3.7/site-packages/pytorch_lightning/callbacks/progress/base.py:223: UserWarning: The progress bar already tracks a metric with the name(s) 'loss' and `self.log('loss', ..., prog_bar=True)` will overwrite this value.  If this is undesired, change the name or override `get_metrics()` in the progress bar callback.\n",
      "  f\"The progress bar already tracks a metric with the name(s) '{', '.join(duplicates)}' and\"\n",
      "Epoch 12, global step 104: 'val_acc' was not in top 5\n"
     ]
    },
    {
     "data": {
      "application/vnd.jupyter.widget-view+json": {
       "model_id": "",
       "version_major": 2,
       "version_minor": 0
      },
      "text/plain": [
       "Validation: 0it [00:00, ?it/s]"
      ]
     },
     "metadata": {},
     "output_type": "display_data"
    },
    {
     "name": "stderr",
     "output_type": "stream",
     "text": [
      "/home/hminle/miniconda3/envs/upfd/lib/python3.7/site-packages/pytorch_lightning/callbacks/progress/base.py:223: UserWarning: The progress bar already tracks a metric with the name(s) 'loss' and `self.log('loss', ..., prog_bar=True)` will overwrite this value.  If this is undesired, change the name or override `get_metrics()` in the progress bar callback.\n",
      "  f\"The progress bar already tracks a metric with the name(s) '{', '.join(duplicates)}' and\"\n",
      "Epoch 13, global step 112: 'val_acc' reached 0.96094 (best 0.97500), saving model to '/home/hminle/github/UPFD_ATT/model/model=gnn_gos-epoch=13-val_loss=0.1131-val_acc=0.9609-val_f1=0.9616.ckpt' as top 5\n"
     ]
    },
    {
     "data": {
      "application/vnd.jupyter.widget-view+json": {
       "model_id": "",
       "version_major": 2,
       "version_minor": 0
      },
      "text/plain": [
       "Validation: 0it [00:00, ?it/s]"
      ]
     },
     "metadata": {},
     "output_type": "display_data"
    },
    {
     "name": "stderr",
     "output_type": "stream",
     "text": [
      "/home/hminle/miniconda3/envs/upfd/lib/python3.7/site-packages/pytorch_lightning/callbacks/progress/base.py:223: UserWarning: The progress bar already tracks a metric with the name(s) 'loss' and `self.log('loss', ..., prog_bar=True)` will overwrite this value.  If this is undesired, change the name or override `get_metrics()` in the progress bar callback.\n",
      "  f\"The progress bar already tracks a metric with the name(s) '{', '.join(duplicates)}' and\"\n",
      "Epoch 14, global step 120: 'val_acc' reached 0.97344 (best 0.97500), saving model to '/home/hminle/github/UPFD_ATT/model/model=gnn_gos-epoch=14-val_loss=0.1034-val_acc=0.9734-val_f1=0.9749.ckpt' as top 5\n"
     ]
    },
    {
     "data": {
      "application/vnd.jupyter.widget-view+json": {
       "model_id": "",
       "version_major": 2,
       "version_minor": 0
      },
      "text/plain": [
       "Validation: 0it [00:00, ?it/s]"
      ]
     },
     "metadata": {},
     "output_type": "display_data"
    },
    {
     "name": "stderr",
     "output_type": "stream",
     "text": [
      "/home/hminle/miniconda3/envs/upfd/lib/python3.7/site-packages/pytorch_lightning/callbacks/progress/base.py:223: UserWarning: The progress bar already tracks a metric with the name(s) 'loss' and `self.log('loss', ..., prog_bar=True)` will overwrite this value.  If this is undesired, change the name or override `get_metrics()` in the progress bar callback.\n",
      "  f\"The progress bar already tracks a metric with the name(s) '{', '.join(duplicates)}' and\"\n",
      "Epoch 15, global step 128: 'val_acc' reached 0.96562 (best 0.97500), saving model to '/home/hminle/github/UPFD_ATT/model/model=gnn_gos-epoch=15-val_loss=0.1056-val_acc=0.9656-val_f1=0.9666.ckpt' as top 5\n"
     ]
    },
    {
     "data": {
      "application/vnd.jupyter.widget-view+json": {
       "model_id": "",
       "version_major": 2,
       "version_minor": 0
      },
      "text/plain": [
       "Validation: 0it [00:00, ?it/s]"
      ]
     },
     "metadata": {},
     "output_type": "display_data"
    },
    {
     "name": "stderr",
     "output_type": "stream",
     "text": [
      "/home/hminle/miniconda3/envs/upfd/lib/python3.7/site-packages/pytorch_lightning/callbacks/progress/base.py:223: UserWarning: The progress bar already tracks a metric with the name(s) 'loss' and `self.log('loss', ..., prog_bar=True)` will overwrite this value.  If this is undesired, change the name or override `get_metrics()` in the progress bar callback.\n",
      "  f\"The progress bar already tracks a metric with the name(s) '{', '.join(duplicates)}' and\"\n",
      "Epoch 16, global step 136: 'val_acc' reached 0.97656 (best 0.97656), saving model to '/home/hminle/github/UPFD_ATT/model/model=gnn_gos-epoch=16-val_loss=0.1029-val_acc=0.9766-val_f1=0.9773-v1.ckpt' as top 5\n"
     ]
    },
    {
     "data": {
      "application/vnd.jupyter.widget-view+json": {
       "model_id": "",
       "version_major": 2,
       "version_minor": 0
      },
      "text/plain": [
       "Validation: 0it [00:00, ?it/s]"
      ]
     },
     "metadata": {},
     "output_type": "display_data"
    },
    {
     "name": "stderr",
     "output_type": "stream",
     "text": [
      "/home/hminle/miniconda3/envs/upfd/lib/python3.7/site-packages/pytorch_lightning/callbacks/progress/base.py:223: UserWarning: The progress bar already tracks a metric with the name(s) 'loss' and `self.log('loss', ..., prog_bar=True)` will overwrite this value.  If this is undesired, change the name or override `get_metrics()` in the progress bar callback.\n",
      "  f\"The progress bar already tracks a metric with the name(s) '{', '.join(duplicates)}' and\"\n",
      "Epoch 17, global step 144: 'val_acc' reached 0.97813 (best 0.97813), saving model to '/home/hminle/github/UPFD_ATT/model/model=gnn_gos-epoch=17-val_loss=0.1014-val_acc=0.9781-val_f1=0.9789.ckpt' as top 5\n"
     ]
    },
    {
     "data": {
      "application/vnd.jupyter.widget-view+json": {
       "model_id": "",
       "version_major": 2,
       "version_minor": 0
      },
      "text/plain": [
       "Validation: 0it [00:00, ?it/s]"
      ]
     },
     "metadata": {},
     "output_type": "display_data"
    },
    {
     "name": "stderr",
     "output_type": "stream",
     "text": [
      "/home/hminle/miniconda3/envs/upfd/lib/python3.7/site-packages/pytorch_lightning/callbacks/progress/base.py:223: UserWarning: The progress bar already tracks a metric with the name(s) 'loss' and `self.log('loss', ..., prog_bar=True)` will overwrite this value.  If this is undesired, change the name or override `get_metrics()` in the progress bar callback.\n",
      "  f\"The progress bar already tracks a metric with the name(s) '{', '.join(duplicates)}' and\"\n",
      "Epoch 18, global step 152: 'val_acc' reached 0.97188 (best 0.97813), saving model to '/home/hminle/github/UPFD_ATT/model/model=gnn_gos-epoch=18-val_loss=0.1019-val_acc=0.9719-val_f1=0.9732.ckpt' as top 5\n"
     ]
    },
    {
     "data": {
      "application/vnd.jupyter.widget-view+json": {
       "model_id": "",
       "version_major": 2,
       "version_minor": 0
      },
      "text/plain": [
       "Validation: 0it [00:00, ?it/s]"
      ]
     },
     "metadata": {},
     "output_type": "display_data"
    },
    {
     "name": "stderr",
     "output_type": "stream",
     "text": [
      "/home/hminle/miniconda3/envs/upfd/lib/python3.7/site-packages/pytorch_lightning/callbacks/progress/base.py:223: UserWarning: The progress bar already tracks a metric with the name(s) 'loss' and `self.log('loss', ..., prog_bar=True)` will overwrite this value.  If this is undesired, change the name or override `get_metrics()` in the progress bar callback.\n",
      "  f\"The progress bar already tracks a metric with the name(s) '{', '.join(duplicates)}' and\"\n",
      "Epoch 19, global step 160: 'val_acc' was not in top 5\n"
     ]
    },
    {
     "data": {
      "application/vnd.jupyter.widget-view+json": {
       "model_id": "",
       "version_major": 2,
       "version_minor": 0
      },
      "text/plain": [
       "Validation: 0it [00:00, ?it/s]"
      ]
     },
     "metadata": {},
     "output_type": "display_data"
    },
    {
     "name": "stderr",
     "output_type": "stream",
     "text": [
      "/home/hminle/miniconda3/envs/upfd/lib/python3.7/site-packages/pytorch_lightning/callbacks/progress/base.py:223: UserWarning: The progress bar already tracks a metric with the name(s) 'loss' and `self.log('loss', ..., prog_bar=True)` will overwrite this value.  If this is undesired, change the name or override `get_metrics()` in the progress bar callback.\n",
      "  f\"The progress bar already tracks a metric with the name(s) '{', '.join(duplicates)}' and\"\n",
      "Epoch 20, global step 168: 'val_acc' reached 0.97656 (best 0.97813), saving model to '/home/hminle/github/UPFD_ATT/model/model=gnn_gos-epoch=20-val_loss=0.1004-val_acc=0.9766-val_f1=0.9775.ckpt' as top 5\n"
     ]
    },
    {
     "data": {
      "application/vnd.jupyter.widget-view+json": {
       "model_id": "",
       "version_major": 2,
       "version_minor": 0
      },
      "text/plain": [
       "Validation: 0it [00:00, ?it/s]"
      ]
     },
     "metadata": {},
     "output_type": "display_data"
    },
    {
     "name": "stderr",
     "output_type": "stream",
     "text": [
      "/home/hminle/miniconda3/envs/upfd/lib/python3.7/site-packages/pytorch_lightning/callbacks/progress/base.py:223: UserWarning: The progress bar already tracks a metric with the name(s) 'loss' and `self.log('loss', ..., prog_bar=True)` will overwrite this value.  If this is undesired, change the name or override `get_metrics()` in the progress bar callback.\n",
      "  f\"The progress bar already tracks a metric with the name(s) '{', '.join(duplicates)}' and\"\n",
      "Epoch 21, global step 176: 'val_acc' was not in top 5\n"
     ]
    },
    {
     "data": {
      "application/vnd.jupyter.widget-view+json": {
       "model_id": "",
       "version_major": 2,
       "version_minor": 0
      },
      "text/plain": [
       "Validation: 0it [00:00, ?it/s]"
      ]
     },
     "metadata": {},
     "output_type": "display_data"
    },
    {
     "name": "stderr",
     "output_type": "stream",
     "text": [
      "/home/hminle/miniconda3/envs/upfd/lib/python3.7/site-packages/pytorch_lightning/callbacks/progress/base.py:223: UserWarning: The progress bar already tracks a metric with the name(s) 'loss' and `self.log('loss', ..., prog_bar=True)` will overwrite this value.  If this is undesired, change the name or override `get_metrics()` in the progress bar callback.\n",
      "  f\"The progress bar already tracks a metric with the name(s) '{', '.join(duplicates)}' and\"\n",
      "Epoch 22, global step 184: 'val_acc' was not in top 5\n"
     ]
    },
    {
     "data": {
      "application/vnd.jupyter.widget-view+json": {
       "model_id": "",
       "version_major": 2,
       "version_minor": 0
      },
      "text/plain": [
       "Validation: 0it [00:00, ?it/s]"
      ]
     },
     "metadata": {},
     "output_type": "display_data"
    },
    {
     "name": "stderr",
     "output_type": "stream",
     "text": [
      "/home/hminle/miniconda3/envs/upfd/lib/python3.7/site-packages/pytorch_lightning/callbacks/progress/base.py:223: UserWarning: The progress bar already tracks a metric with the name(s) 'loss' and `self.log('loss', ..., prog_bar=True)` will overwrite this value.  If this is undesired, change the name or override `get_metrics()` in the progress bar callback.\n",
      "  f\"The progress bar already tracks a metric with the name(s) '{', '.join(duplicates)}' and\"\n",
      "Epoch 23, global step 192: 'val_acc' was not in top 5\n"
     ]
    },
    {
     "data": {
      "application/vnd.jupyter.widget-view+json": {
       "model_id": "",
       "version_major": 2,
       "version_minor": 0
      },
      "text/plain": [
       "Validation: 0it [00:00, ?it/s]"
      ]
     },
     "metadata": {},
     "output_type": "display_data"
    },
    {
     "name": "stderr",
     "output_type": "stream",
     "text": [
      "/home/hminle/miniconda3/envs/upfd/lib/python3.7/site-packages/pytorch_lightning/callbacks/progress/base.py:223: UserWarning: The progress bar already tracks a metric with the name(s) 'loss' and `self.log('loss', ..., prog_bar=True)` will overwrite this value.  If this is undesired, change the name or override `get_metrics()` in the progress bar callback.\n",
      "  f\"The progress bar already tracks a metric with the name(s) '{', '.join(duplicates)}' and\"\n",
      "Epoch 24, global step 200: 'val_acc' was not in top 5\n"
     ]
    },
    {
     "data": {
      "application/vnd.jupyter.widget-view+json": {
       "model_id": "",
       "version_major": 2,
       "version_minor": 0
      },
      "text/plain": [
       "Validation: 0it [00:00, ?it/s]"
      ]
     },
     "metadata": {},
     "output_type": "display_data"
    },
    {
     "name": "stderr",
     "output_type": "stream",
     "text": [
      "/home/hminle/miniconda3/envs/upfd/lib/python3.7/site-packages/pytorch_lightning/callbacks/progress/base.py:223: UserWarning: The progress bar already tracks a metric with the name(s) 'loss' and `self.log('loss', ..., prog_bar=True)` will overwrite this value.  If this is undesired, change the name or override `get_metrics()` in the progress bar callback.\n",
      "  f\"The progress bar already tracks a metric with the name(s) '{', '.join(duplicates)}' and\"\n",
      "Epoch 25, global step 208: 'val_acc' was not in top 5\n"
     ]
    },
    {
     "data": {
      "application/vnd.jupyter.widget-view+json": {
       "model_id": "",
       "version_major": 2,
       "version_minor": 0
      },
      "text/plain": [
       "Validation: 0it [00:00, ?it/s]"
      ]
     },
     "metadata": {},
     "output_type": "display_data"
    },
    {
     "name": "stderr",
     "output_type": "stream",
     "text": [
      "/home/hminle/miniconda3/envs/upfd/lib/python3.7/site-packages/pytorch_lightning/callbacks/progress/base.py:223: UserWarning: The progress bar already tracks a metric with the name(s) 'loss' and `self.log('loss', ..., prog_bar=True)` will overwrite this value.  If this is undesired, change the name or override `get_metrics()` in the progress bar callback.\n",
      "  f\"The progress bar already tracks a metric with the name(s) '{', '.join(duplicates)}' and\"\n",
      "Epoch 26, global step 216: 'val_acc' was not in top 5\n"
     ]
    },
    {
     "data": {
      "application/vnd.jupyter.widget-view+json": {
       "model_id": "",
       "version_major": 2,
       "version_minor": 0
      },
      "text/plain": [
       "Validation: 0it [00:00, ?it/s]"
      ]
     },
     "metadata": {},
     "output_type": "display_data"
    },
    {
     "name": "stderr",
     "output_type": "stream",
     "text": [
      "/home/hminle/miniconda3/envs/upfd/lib/python3.7/site-packages/pytorch_lightning/callbacks/progress/base.py:223: UserWarning: The progress bar already tracks a metric with the name(s) 'loss' and `self.log('loss', ..., prog_bar=True)` will overwrite this value.  If this is undesired, change the name or override `get_metrics()` in the progress bar callback.\n",
      "  f\"The progress bar already tracks a metric with the name(s) '{', '.join(duplicates)}' and\"\n",
      "Epoch 27, global step 224: 'val_acc' was not in top 5\n"
     ]
    },
    {
     "data": {
      "application/vnd.jupyter.widget-view+json": {
       "model_id": "",
       "version_major": 2,
       "version_minor": 0
      },
      "text/plain": [
       "Validation: 0it [00:00, ?it/s]"
      ]
     },
     "metadata": {},
     "output_type": "display_data"
    },
    {
     "name": "stderr",
     "output_type": "stream",
     "text": [
      "/home/hminle/miniconda3/envs/upfd/lib/python3.7/site-packages/pytorch_lightning/callbacks/progress/base.py:223: UserWarning: The progress bar already tracks a metric with the name(s) 'loss' and `self.log('loss', ..., prog_bar=True)` will overwrite this value.  If this is undesired, change the name or override `get_metrics()` in the progress bar callback.\n",
      "  f\"The progress bar already tracks a metric with the name(s) '{', '.join(duplicates)}' and\"\n",
      "Epoch 28, global step 232: 'val_acc' was not in top 5\n",
      "/home/hminle/miniconda3/envs/upfd/lib/python3.7/site-packages/pytorch_lightning/trainer/trainer.py:727: UserWarning: Detected KeyboardInterrupt, attempting graceful shutdown...\n",
      "  rank_zero_warn(\"Detected KeyboardInterrupt, attempting graceful shutdown...\")\n"
     ]
    }
   ],
   "source": [
    "# Train\n",
    "data_module = DataModule(args.config['data_params'])\n",
    "if args.config['model_params']['model_name'] == 'GNN':\n",
    "    model_module = GNN(args.config['model_params'])\n",
    "elif args.config['model_params']['model_name'] == 'GNN_ATT':\n",
    "    model_module = GNN_ATT(args.config['model_params'])\n",
    "trainer, _ = build_trainer(args.config['trainer_params'])\n",
    "data_module.setup()\n",
    "trainer.fit(model_module, data_module)"
   ]
  },
  {
   "cell_type": "code",
   "execution_count": 6,
   "id": "25dd5816",
   "metadata": {
    "collapsed": true
   },
   "outputs": [
    {
     "name": "stdout",
     "output_type": "stream",
     "text": [
      "### Test\n",
      "Load checkpoint from: ../model\n",
      "Load model 0: ../model/model=gnn_gos-epoch=10-val_loss=0.1142-val_acc=0.9750-val_f1=0.9760.ckpt\n"
     ]
    },
    {
     "name": "stderr",
     "output_type": "stream",
     "text": [
      "LOCAL_RANK: 0 - CUDA_VISIBLE_DEVICES: [0,1,2,3]\n",
      "/home/hminle/miniconda3/envs/upfd/lib/python3.7/site-packages/pytorch_lightning/trainer/connectors/data_connector.py:245: PossibleUserWarning: The dataloader, test_dataloader 0, does not have many workers which may be a bottleneck. Consider increasing the value of the `num_workers` argument` (try 16 which is the number of cpus on this machine) in the `DataLoader` init to improve performance.\n",
      "  category=PossibleUserWarning,\n"
     ]
    },
    {
     "data": {
      "application/vnd.jupyter.widget-view+json": {
       "model_id": "56d581350695460289af1d58e425cc5d",
       "version_major": 2,
       "version_minor": 0
      },
      "text/plain": [
       "Testing: 0it [00:00, ?it/s]"
      ]
     },
     "metadata": {},
     "output_type": "display_data"
    },
    {
     "name": "stdout",
     "output_type": "stream",
     "text": [
      "────────────────────────────────────────────────────────────────────────────────────────────────────────────────────────\n",
      "       Test metric             DataLoader 0\n",
      "────────────────────────────────────────────────────────────────────────────────────────────────────────────────────────\n",
      "        test_acc            0.9730491593567251\n",
      "         test_f1            0.9731425835991645\n",
      "        test_loss           0.10262882709503174\n",
      "────────────────────────────────────────────────────────────────────────────────────────────────────────────────────────\n",
      "Load model 1: ../model/model=gnn_gos-epoch=14-val_loss=0.1017-val_acc=0.9766-val_f1=0.9773.ckpt\n"
     ]
    },
    {
     "name": "stderr",
     "output_type": "stream",
     "text": [
      "LOCAL_RANK: 0 - CUDA_VISIBLE_DEVICES: [0,1,2,3]\n",
      "/home/hminle/miniconda3/envs/upfd/lib/python3.7/site-packages/pytorch_lightning/trainer/connectors/data_connector.py:245: PossibleUserWarning: The dataloader, test_dataloader 0, does not have many workers which may be a bottleneck. Consider increasing the value of the `num_workers` argument` (try 16 which is the number of cpus on this machine) in the `DataLoader` init to improve performance.\n",
      "  category=PossibleUserWarning,\n"
     ]
    },
    {
     "data": {
      "application/vnd.jupyter.widget-view+json": {
       "model_id": "9319013f2b0c4fc7ae7f0bd029948152",
       "version_major": 2,
       "version_minor": 0
      },
      "text/plain": [
       "Testing: 0it [00:00, ?it/s]"
      ]
     },
     "metadata": {},
     "output_type": "display_data"
    },
    {
     "name": "stdout",
     "output_type": "stream",
     "text": [
      "────────────────────────────────────────────────────────────────────────────────────────────────────────────────────────\n",
      "       Test metric             DataLoader 0\n",
      "────────────────────────────────────────────────────────────────────────────────────────────────────────────────────────\n",
      "        test_acc            0.9759777046783625\n",
      "         test_f1            0.9761128712824765\n",
      "        test_loss           0.09185109287500381\n",
      "────────────────────────────────────────────────────────────────────────────────────────────────────────────────────────\n",
      "Load model 2: ../model/model=gnn_gos-epoch=14-val_loss=0.1034-val_acc=0.9734-val_f1=0.9749.ckpt\n"
     ]
    },
    {
     "name": "stderr",
     "output_type": "stream",
     "text": [
      "LOCAL_RANK: 0 - CUDA_VISIBLE_DEVICES: [0,1,2,3]\n",
      "/home/hminle/miniconda3/envs/upfd/lib/python3.7/site-packages/pytorch_lightning/trainer/connectors/data_connector.py:245: PossibleUserWarning: The dataloader, test_dataloader 0, does not have many workers which may be a bottleneck. Consider increasing the value of the `num_workers` argument` (try 16 which is the number of cpus on this machine) in the `DataLoader` init to improve performance.\n",
      "  category=PossibleUserWarning,\n"
     ]
    },
    {
     "data": {
      "application/vnd.jupyter.widget-view+json": {
       "model_id": "c91f315c610a452395e682cdbb6838b5",
       "version_major": 2,
       "version_minor": 0
      },
      "text/plain": [
       "Testing: 0it [00:00, ?it/s]"
      ]
     },
     "metadata": {},
     "output_type": "display_data"
    },
    {
     "name": "stdout",
     "output_type": "stream",
     "text": [
      "────────────────────────────────────────────────────────────────────────────────────────────────────────────────────────\n",
      "       Test metric             DataLoader 0\n",
      "────────────────────────────────────────────────────────────────────────────────────────────────────────────────────────\n",
      "        test_acc            0.9733735380116959\n",
      "         test_f1            0.9733537134161148\n",
      "        test_loss           0.09274792671203613\n",
      "────────────────────────────────────────────────────────────────────────────────────────────────────────────────────────\n",
      "Load model 3: ../model/model=gnn_gos-epoch=16-val_loss=0.1029-val_acc=0.9766-val_f1=0.9773-v1.ckpt\n"
     ]
    },
    {
     "name": "stderr",
     "output_type": "stream",
     "text": [
      "LOCAL_RANK: 0 - CUDA_VISIBLE_DEVICES: [0,1,2,3]\n",
      "/home/hminle/miniconda3/envs/upfd/lib/python3.7/site-packages/pytorch_lightning/trainer/connectors/data_connector.py:245: PossibleUserWarning: The dataloader, test_dataloader 0, does not have many workers which may be a bottleneck. Consider increasing the value of the `num_workers` argument` (try 16 which is the number of cpus on this machine) in the `DataLoader` init to improve performance.\n",
      "  category=PossibleUserWarning,\n"
     ]
    },
    {
     "data": {
      "application/vnd.jupyter.widget-view+json": {
       "model_id": "127430f42e1240d894b7940129585266",
       "version_major": 2,
       "version_minor": 0
      },
      "text/plain": [
       "Testing: 0it [00:00, ?it/s]"
      ]
     },
     "metadata": {},
     "output_type": "display_data"
    },
    {
     "name": "stdout",
     "output_type": "stream",
     "text": [
      "────────────────────────────────────────────────────────────────────────────────────────────────────────────────────────\n",
      "       Test metric             DataLoader 0\n",
      "────────────────────────────────────────────────────────────────────────────────────────────────────────────────────────\n",
      "        test_acc            0.9770193713450293\n",
      "         test_f1             0.977211078879004\n",
      "        test_loss           0.0909542590379715\n",
      "────────────────────────────────────────────────────────────────────────────────────────────────────────────────────────\n",
      "Load model 4: ../model/model=gnn_gos-epoch=16-val_loss=0.1029-val_acc=0.9766-val_f1=0.9773.ckpt\n"
     ]
    },
    {
     "name": "stderr",
     "output_type": "stream",
     "text": [
      "LOCAL_RANK: 0 - CUDA_VISIBLE_DEVICES: [0,1,2,3]\n",
      "/home/hminle/miniconda3/envs/upfd/lib/python3.7/site-packages/pytorch_lightning/trainer/connectors/data_connector.py:245: PossibleUserWarning: The dataloader, test_dataloader 0, does not have many workers which may be a bottleneck. Consider increasing the value of the `num_workers` argument` (try 16 which is the number of cpus on this machine) in the `DataLoader` init to improve performance.\n",
      "  category=PossibleUserWarning,\n"
     ]
    },
    {
     "data": {
      "application/vnd.jupyter.widget-view+json": {
       "model_id": "417a6d57e5c649b1a5d20434f4244d22",
       "version_major": 2,
       "version_minor": 0
      },
      "text/plain": [
       "Testing: 0it [00:00, ?it/s]"
      ]
     },
     "metadata": {},
     "output_type": "display_data"
    },
    {
     "name": "stdout",
     "output_type": "stream",
     "text": [
      "────────────────────────────────────────────────────────────────────────────────────────────────────────────────────────\n",
      "       Test metric             DataLoader 0\n",
      "────────────────────────────────────────────────────────────────────────────────────────────────────────────────────────\n",
      "        test_acc            0.9772797880116959\n",
      "         test_f1            0.9775168391847644\n",
      "        test_loss           0.09018252789974213\n",
      "────────────────────────────────────────────────────────────────────────────────────────────────────────────────────────\n",
      "Load model 5: ../model/model=gnn_gos-epoch=17-val_loss=0.0990-val_acc=0.9781-val_f1=0.9789.ckpt\n"
     ]
    },
    {
     "name": "stderr",
     "output_type": "stream",
     "text": [
      "LOCAL_RANK: 0 - CUDA_VISIBLE_DEVICES: [0,1,2,3]\n",
      "/home/hminle/miniconda3/envs/upfd/lib/python3.7/site-packages/pytorch_lightning/trainer/connectors/data_connector.py:245: PossibleUserWarning: The dataloader, test_dataloader 0, does not have many workers which may be a bottleneck. Consider increasing the value of the `num_workers` argument` (try 16 which is the number of cpus on this machine) in the `DataLoader` init to improve performance.\n",
      "  category=PossibleUserWarning,\n"
     ]
    },
    {
     "data": {
      "application/vnd.jupyter.widget-view+json": {
       "model_id": "31afa68ef9e44cc989ec7e283af9fa62",
       "version_major": 2,
       "version_minor": 0
      },
      "text/plain": [
       "Testing: 0it [00:00, ?it/s]"
      ]
     },
     "metadata": {},
     "output_type": "display_data"
    },
    {
     "name": "stdout",
     "output_type": "stream",
     "text": [
      "────────────────────────────────────────────────────────────────────────────────────────────────────────────────────────\n",
      "       Test metric             DataLoader 0\n",
      "────────────────────────────────────────────────────────────────────────────────────────────────────────────────────────\n",
      "        test_acc            0.9775402046783626\n",
      "         test_f1             0.977771292110973\n",
      "        test_loss           0.08765432238578796\n",
      "────────────────────────────────────────────────────────────────────────────────────────────────────────────────────────\n",
      "Load model 6: ../model/model=gnn_gos-epoch=17-val_loss=0.1014-val_acc=0.9781-val_f1=0.9789.ckpt\n"
     ]
    },
    {
     "name": "stderr",
     "output_type": "stream",
     "text": [
      "LOCAL_RANK: 0 - CUDA_VISIBLE_DEVICES: [0,1,2,3]\n",
      "/home/hminle/miniconda3/envs/upfd/lib/python3.7/site-packages/pytorch_lightning/trainer/connectors/data_connector.py:245: PossibleUserWarning: The dataloader, test_dataloader 0, does not have many workers which may be a bottleneck. Consider increasing the value of the `num_workers` argument` (try 16 which is the number of cpus on this machine) in the `DataLoader` init to improve performance.\n",
      "  category=PossibleUserWarning,\n"
     ]
    },
    {
     "data": {
      "application/vnd.jupyter.widget-view+json": {
       "model_id": "40a27049b1f7498fbc2855409702a5ff",
       "version_major": 2,
       "version_minor": 0
      },
      "text/plain": [
       "Testing: 0it [00:00, ?it/s]"
      ]
     },
     "metadata": {},
     "output_type": "display_data"
    },
    {
     "name": "stdout",
     "output_type": "stream",
     "text": [
      "────────────────────────────────────────────────────────────────────────────────────────────────────────────────────────\n",
      "       Test metric             DataLoader 0\n",
      "────────────────────────────────────────────────────────────────────────────────────────────────────────────────────────\n",
      "        test_acc            0.9769873903508771\n",
      "         test_f1            0.9772322571233558\n",
      "        test_loss           0.08946089446544647\n",
      "────────────────────────────────────────────────────────────────────────────────────────────────────────────────────────\n",
      "Load model 7: ../model/model=gnn_gos-epoch=20-val_loss=0.0978-val_acc=0.9781-val_f1=0.9789.ckpt\n"
     ]
    },
    {
     "name": "stderr",
     "output_type": "stream",
     "text": [
      "LOCAL_RANK: 0 - CUDA_VISIBLE_DEVICES: [0,1,2,3]\n",
      "/home/hminle/miniconda3/envs/upfd/lib/python3.7/site-packages/pytorch_lightning/trainer/connectors/data_connector.py:245: PossibleUserWarning: The dataloader, test_dataloader 0, does not have many workers which may be a bottleneck. Consider increasing the value of the `num_workers` argument` (try 16 which is the number of cpus on this machine) in the `DataLoader` init to improve performance.\n",
      "  category=PossibleUserWarning,\n"
     ]
    },
    {
     "data": {
      "application/vnd.jupyter.widget-view+json": {
       "model_id": "8c562993979c472ba28d99fe476b3b92",
       "version_major": 2,
       "version_minor": 0
      },
      "text/plain": [
       "Testing: 0it [00:00, ?it/s]"
      ]
     },
     "metadata": {},
     "output_type": "display_data"
    },
    {
     "name": "stdout",
     "output_type": "stream",
     "text": [
      "────────────────────────────────────────────────────────────────────────────────────────────────────────────────────────\n",
      "       Test metric             DataLoader 0\n",
      "────────────────────────────────────────────────────────────────────────────────────────────────────────────────────────\n",
      "        test_acc            0.9772797880116959\n",
      "         test_f1            0.9774869372727235\n",
      "        test_loss           0.08641843497753143\n",
      "────────────────────────────────────────────────────────────────────────────────────────────────────────────────────────\n",
      "Load model 8: ../model/model=gnn_gos-epoch=20-val_loss=0.1004-val_acc=0.9766-val_f1=0.9775.ckpt\n"
     ]
    },
    {
     "name": "stderr",
     "output_type": "stream",
     "text": [
      "LOCAL_RANK: 0 - CUDA_VISIBLE_DEVICES: [0,1,2,3]\n",
      "/home/hminle/miniconda3/envs/upfd/lib/python3.7/site-packages/pytorch_lightning/trainer/connectors/data_connector.py:245: PossibleUserWarning: The dataloader, test_dataloader 0, does not have many workers which may be a bottleneck. Consider increasing the value of the `num_workers` argument` (try 16 which is the number of cpus on this machine) in the `DataLoader` init to improve performance.\n",
      "  category=PossibleUserWarning,\n"
     ]
    },
    {
     "data": {
      "application/vnd.jupyter.widget-view+json": {
       "model_id": "07e3d912ffbf4fdba3c23313f45c6848",
       "version_major": 2,
       "version_minor": 0
      },
      "text/plain": [
       "Testing: 0it [00:00, ?it/s]"
      ]
     },
     "metadata": {},
     "output_type": "display_data"
    },
    {
     "name": "stdout",
     "output_type": "stream",
     "text": [
      "────────────────────────────────────────────────────────────────────────────────────────────────────────────────────────\n",
      "       Test metric             DataLoader 0\n",
      "────────────────────────────────────────────────────────────────────────────────────────────────────────────────────────\n",
      "        test_acc            0.9772797880116959\n",
      "         test_f1            0.9774512809093417\n",
      "        test_loss           0.08736326545476913\n",
      "────────────────────────────────────────────────────────────────────────────────────────────────────────────────────────\n",
      "Load model 9: ../model/model=gnn_gos-epoch=24-val_loss=0.1186-val_acc=0.9750-val_f1=0.9759.ckpt\n"
     ]
    },
    {
     "name": "stderr",
     "output_type": "stream",
     "text": [
      "LOCAL_RANK: 0 - CUDA_VISIBLE_DEVICES: [0,1,2,3]\n",
      "/home/hminle/miniconda3/envs/upfd/lib/python3.7/site-packages/pytorch_lightning/trainer/connectors/data_connector.py:245: PossibleUserWarning: The dataloader, test_dataloader 0, does not have many workers which may be a bottleneck. Consider increasing the value of the `num_workers` argument` (try 16 which is the number of cpus on this machine) in the `DataLoader` init to improve performance.\n",
      "  category=PossibleUserWarning,\n"
     ]
    },
    {
     "data": {
      "application/vnd.jupyter.widget-view+json": {
       "model_id": "113a5b4d366f4e9c91f001755d2c22e1",
       "version_major": 2,
       "version_minor": 0
      },
      "text/plain": [
       "Testing: 0it [00:00, ?it/s]"
      ]
     },
     "metadata": {},
     "output_type": "display_data"
    },
    {
     "name": "stdout",
     "output_type": "stream",
     "text": [
      "────────────────────────────────────────────────────────────────────────────────────────────────────────────────────────\n",
      "       Test metric             DataLoader 0\n",
      "────────────────────────────────────────────────────────────────────────────────────────────────────────────────────────\n",
      "        test_acc            0.9738304093567252\n",
      "         test_f1             0.974019319519677\n",
      "        test_loss           0.10413514822721481\n",
      "────────────────────────────────────────────────────────────────────────────────────────────────────────────────────────\n"
     ]
    }
   ],
   "source": [
    "# Test\n",
    "print('### Test')\n",
    "checkpoint_dir = Path(args.config['trainer_params']['checkpoint_dir'])\n",
    "print(f'Load checkpoint from: {str(checkpoint_dir)}')\n",
    "paths = sorted(checkpoint_dir.glob('*.ckpt'))\n",
    "name = args.config['trainer_params']['name']\n",
    "filtered_paths = [p for p in paths if f'model={name}-' in str(p)]\n",
    "results = []\n",
    "for i, p in enumerate(filtered_paths):\n",
    "    print(f'Load model {i}: {p}')\n",
    "    # test\n",
    "    model_test = model_module.load_from_checkpoint(checkpoint_path=p) \n",
    "    result = trainer.test(model_test, datamodule=data_module)\n",
    "    results.append(results)\n",
    "    del model_test"
   ]
  },
  {
   "cell_type": "code",
   "execution_count": null,
   "id": "1c8267a8",
   "metadata": {},
   "outputs": [],
   "source": []
  },
  {
   "cell_type": "code",
   "execution_count": 19,
   "id": "6166add2",
   "metadata": {},
   "outputs": [
    {
     "data": {
      "text/plain": [
       "GNN(\n",
       "  (conv1): GATConv(310, 128, heads=1)\n",
       "  (conv2): GATConv(128, 128, heads=1)\n",
       "  (conv3): GATConv(128, 128, heads=1)\n",
       "  (lin_news): Linear(in_features=310, out_features=128, bias=True)\n",
       "  (lin0): Linear(in_features=128, out_features=128, bias=True)\n",
       "  (lin1): Linear(in_features=256, out_features=1, bias=True)\n",
       "  (loss): BCELoss()\n",
       ")"
      ]
     },
     "execution_count": 19,
     "metadata": {},
     "output_type": "execute_result"
    }
   ],
   "source": [
    "# inference\n",
    "model_path = '../model/model=gnn_gos-epoch=10-val_loss=0.1142-val_acc=0.9750-val_f1=0.9760.ckpt'\n",
    "device = 'cuda'\n",
    "map_location = lambda storage, loc: storage.cuda()\n",
    "checkpoint = torch.load(model_path, map_location=map_location)\n",
    "model_dict = model_module.state_dict()\n",
    "pretrain_dict = {k: v for k, v in checkpoint['state_dict'].items() if k in model_dict}\n",
    "model_module.load_state_dict(pretrain_dict)\n",
    "model_module.eval()\n",
    "model_module.to(device)"
   ]
  },
  {
   "cell_type": "code",
   "execution_count": 34,
   "id": "2e642f92",
   "metadata": {},
   "outputs": [
    {
     "data": {
      "text/html": [
       "<div>\n",
       "<style scoped>\n",
       "    .dataframe tbody tr th:only-of-type {\n",
       "        vertical-align: middle;\n",
       "    }\n",
       "\n",
       "    .dataframe tbody tr th {\n",
       "        vertical-align: top;\n",
       "    }\n",
       "\n",
       "    .dataframe thead th {\n",
       "        text-align: right;\n",
       "    }\n",
       "</style>\n",
       "<table border=\"1\" class=\"dataframe\">\n",
       "  <thead>\n",
       "    <tr style=\"text-align: right;\">\n",
       "      <th></th>\n",
       "      <th>pred_logits</th>\n",
       "      <th>preds</th>\n",
       "      <th>trues</th>\n",
       "    </tr>\n",
       "  </thead>\n",
       "  <tbody>\n",
       "    <tr>\n",
       "      <th>0</th>\n",
       "      <td>0.997363</td>\n",
       "      <td>1.0</td>\n",
       "      <td>1</td>\n",
       "    </tr>\n",
       "    <tr>\n",
       "      <th>1</th>\n",
       "      <td>0.956657</td>\n",
       "      <td>1.0</td>\n",
       "      <td>1</td>\n",
       "    </tr>\n",
       "    <tr>\n",
       "      <th>2</th>\n",
       "      <td>0.128067</td>\n",
       "      <td>0.0</td>\n",
       "      <td>0</td>\n",
       "    </tr>\n",
       "    <tr>\n",
       "      <th>3</th>\n",
       "      <td>0.968894</td>\n",
       "      <td>1.0</td>\n",
       "      <td>1</td>\n",
       "    </tr>\n",
       "    <tr>\n",
       "      <th>4</th>\n",
       "      <td>0.031830</td>\n",
       "      <td>0.0</td>\n",
       "      <td>0</td>\n",
       "    </tr>\n",
       "    <tr>\n",
       "      <th>5</th>\n",
       "      <td>0.037398</td>\n",
       "      <td>0.0</td>\n",
       "      <td>0</td>\n",
       "    </tr>\n",
       "    <tr>\n",
       "      <th>6</th>\n",
       "      <td>0.031676</td>\n",
       "      <td>0.0</td>\n",
       "      <td>0</td>\n",
       "    </tr>\n",
       "    <tr>\n",
       "      <th>7</th>\n",
       "      <td>0.997774</td>\n",
       "      <td>1.0</td>\n",
       "      <td>1</td>\n",
       "    </tr>\n",
       "    <tr>\n",
       "      <th>8</th>\n",
       "      <td>0.028810</td>\n",
       "      <td>0.0</td>\n",
       "      <td>0</td>\n",
       "    </tr>\n",
       "    <tr>\n",
       "      <th>9</th>\n",
       "      <td>0.038423</td>\n",
       "      <td>0.0</td>\n",
       "      <td>0</td>\n",
       "    </tr>\n",
       "    <tr>\n",
       "      <th>10</th>\n",
       "      <td>0.997624</td>\n",
       "      <td>1.0</td>\n",
       "      <td>1</td>\n",
       "    </tr>\n",
       "    <tr>\n",
       "      <th>11</th>\n",
       "      <td>0.015458</td>\n",
       "      <td>0.0</td>\n",
       "      <td>0</td>\n",
       "    </tr>\n",
       "    <tr>\n",
       "      <th>12</th>\n",
       "      <td>0.027975</td>\n",
       "      <td>0.0</td>\n",
       "      <td>0</td>\n",
       "    </tr>\n",
       "    <tr>\n",
       "      <th>13</th>\n",
       "      <td>0.922680</td>\n",
       "      <td>1.0</td>\n",
       "      <td>1</td>\n",
       "    </tr>\n",
       "    <tr>\n",
       "      <th>14</th>\n",
       "      <td>0.994922</td>\n",
       "      <td>1.0</td>\n",
       "      <td>1</td>\n",
       "    </tr>\n",
       "    <tr>\n",
       "      <th>15</th>\n",
       "      <td>0.027837</td>\n",
       "      <td>0.0</td>\n",
       "      <td>0</td>\n",
       "    </tr>\n",
       "    <tr>\n",
       "      <th>16</th>\n",
       "      <td>0.997650</td>\n",
       "      <td>1.0</td>\n",
       "      <td>1</td>\n",
       "    </tr>\n",
       "    <tr>\n",
       "      <th>17</th>\n",
       "      <td>0.012759</td>\n",
       "      <td>0.0</td>\n",
       "      <td>0</td>\n",
       "    </tr>\n",
       "    <tr>\n",
       "      <th>18</th>\n",
       "      <td>0.038399</td>\n",
       "      <td>0.0</td>\n",
       "      <td>0</td>\n",
       "    </tr>\n",
       "    <tr>\n",
       "      <th>19</th>\n",
       "      <td>0.984664</td>\n",
       "      <td>1.0</td>\n",
       "      <td>1</td>\n",
       "    </tr>\n",
       "  </tbody>\n",
       "</table>\n",
       "</div>"
      ],
      "text/plain": [
       "    pred_logits  preds  trues\n",
       "0      0.997363    1.0      1\n",
       "1      0.956657    1.0      1\n",
       "2      0.128067    0.0      0\n",
       "3      0.968894    1.0      1\n",
       "4      0.031830    0.0      0\n",
       "5      0.037398    0.0      0\n",
       "6      0.031676    0.0      0\n",
       "7      0.997774    1.0      1\n",
       "8      0.028810    0.0      0\n",
       "9      0.038423    0.0      0\n",
       "10     0.997624    1.0      1\n",
       "11     0.015458    0.0      0\n",
       "12     0.027975    0.0      0\n",
       "13     0.922680    1.0      1\n",
       "14     0.994922    1.0      1\n",
       "15     0.027837    0.0      0\n",
       "16     0.997650    1.0      1\n",
       "17     0.012759    0.0      0\n",
       "18     0.038399    0.0      0\n",
       "19     0.984664    1.0      1"
      ]
     },
     "execution_count": 34,
     "metadata": {},
     "output_type": "execute_result"
    }
   ],
   "source": [
    "pred_logits = []\n",
    "preds = []\n",
    "trues = []\n",
    "for batch in data_module.test_dataloader():\n",
    "    pred = model_module.forward(\n",
    "        batch['x'].to(device), \n",
    "        batch['edge_index'].to(device), \n",
    "        batch['batch'].to(device))\n",
    "    pred_logits += list(pred.cpu().detach().numpy()[:,0])\n",
    "    preds += list(torch.round(pred).cpu().detach().numpy()[:,0])\n",
    "    trues += list(batch.y.cpu().numpy())\n",
    "df_result = pd.DataFrame({\n",
    "    'pred_logits': pred_logits,\n",
    "    'preds': preds,\n",
    "    'trues': trues,\n",
    "})\n",
    "df_result.head(20)"
   ]
  },
  {
   "cell_type": "code",
   "execution_count": null,
   "id": "a553a3b9",
   "metadata": {},
   "outputs": [],
   "source": []
  }
 ],
 "metadata": {
  "kernelspec": {
   "display_name": "Python 3 (ipykernel)",
   "language": "python",
   "name": "python3"
  },
  "language_info": {
   "codemirror_mode": {
    "name": "ipython",
    "version": 3
   },
   "file_extension": ".py",
   "mimetype": "text/x-python",
   "name": "python",
   "nbconvert_exporter": "python",
   "pygments_lexer": "ipython3",
   "version": "3.7.13"
  },
  "toc": {
   "base_numbering": 1,
   "nav_menu": {},
   "number_sections": true,
   "sideBar": true,
   "skip_h1_title": false,
   "title_cell": "Table of Contents",
   "title_sidebar": "Contents",
   "toc_cell": false,
   "toc_position": {
    "height": "calc(100% - 180px)",
    "left": "10px",
    "top": "150px",
    "width": "165px"
   },
   "toc_section_display": true,
   "toc_window_display": true
  }
 },
 "nbformat": 4,
 "nbformat_minor": 5
}
